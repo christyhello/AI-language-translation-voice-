{
 "cells": [
  {
   "cell_type": "code",
   "execution_count": null,
   "id": "38a3f2f3",
   "metadata": {},
   "outputs": [],
   "source": [
    "import speech_recognition as sr\n",
    "from googletrans import Translator\n",
    "import pyttsx3\n"
   ]
  },
  {
   "cell_type": "code",
   "execution_count": 2,
   "id": "a40ed746",
   "metadata": {},
   "outputs": [],
   "source": [
    "# Initialize the recognizer\n",
    "recognizer = sr.Recognizer()\n",
    "\n",
    "# Initialize the translator\n",
    "translator = Translator()\n",
    "\n",
    "# Initialize the text-to-speech engine\n",
    "tts_engine = pyttsx3.init()\n"
   ]
  },
  {
   "cell_type": "code",
   "execution_count": 3,
   "id": "580d116c",
   "metadata": {},
   "outputs": [],
   "source": [
    "def translate_speech(source_language='en', target_language='es'):\n",
    "    with sr.Microphone() as source:\n",
    "        print(\"Listening...\")\n",
    "        audio = recognizer.listen(source)  # Listen for the first phrase\n",
    "\n",
    "        try:\n",
    "            # Recognize speech using Google Web Speech API\n",
    "            spoken_text = recognizer.recognize_google(audio, language=source_language)\n",
    "            print(f\"Recognized text: {spoken_text}\")\n",
    "\n",
    "            # Translate the text\n",
    "            translated_text = translator.translate(spoken_text, src=source_language, dest=target_language)\n",
    "            print(f\"Translated text: {translated_text.text}\")\n",
    "\n",
    "            # Convert translated text to speech\n",
    "            tts_engine.say(translated_text.text)\n",
    "            tts_engine.runAndWait()\n",
    "\n",
    "        except sr.UnknownValueError:\n",
    "            print(\"Could not understand audio\")\n",
    "        except sr.RequestError as e:\n",
    "            print(f\"Could not request results from Google Speech Recognition service; {e}\")\n"
   ]
  },
  {
   "cell_type": "code",
   "execution_count": null,
   "id": "feee21b0",
   "metadata": {},
   "outputs": [
    {
     "name": "stdout",
     "output_type": "stream",
     "text": [
      "Enter source language code (e.g., 'en' for English): en\n",
      "Enter target language code (e.g., 'es' for Spanish): hi\n",
      "Listening...\n",
      "Recognized text: what is your name\n",
      "Translated text: आपका क्या नाम है\n",
      "Listening...\n",
      "Recognized text: what's your name it's a voice or say something in English hello how are you\n",
      "Translated text: आपका नाम क्या है यह एक आवाज है या अंग्रेजी में कुछ कहो नमस्ते आप कैसे हैं\n",
      "Listening...\n",
      "Recognized text: Hindi naam kya hai Awaaz\n",
      "Translated text: हिंदी नाम क्या है\n",
      "Listening...\n",
      "Recognized text: bolo Kuchh\n",
      "Translated text: बोलो कुच\n",
      "Listening...\n"
     ]
    }
   ],
   "source": [
    "if __name__ == \"__main__\":\n",
    "    source_lang = input(\"Enter source language code (e.g., 'en' for English): \")\n",
    "    target_lang = input(\"Enter target language code (e.g., 'es' for Spanish): \")\n",
    "\n",
    "    while True:\n",
    "        translate_speech(source_language=source_lang, target_language=target_lang)\n"
   ]
  },
  {
   "cell_type": "code",
   "execution_count": null,
   "id": "42a1933c",
   "metadata": {},
   "outputs": [],
   "source": []
  }
 ],
 "metadata": {
  "kernelspec": {
   "display_name": "Python 3 (ipykernel)",
   "language": "python",
   "name": "python3"
  },
  "language_info": {
   "codemirror_mode": {
    "name": "ipython",
    "version": 3
   },
   "file_extension": ".py",
   "mimetype": "text/x-python",
   "name": "python",
   "nbconvert_exporter": "python",
   "pygments_lexer": "ipython3",
   "version": "3.11.5"
  }
 },
 "nbformat": 4,
 "nbformat_minor": 5
}
